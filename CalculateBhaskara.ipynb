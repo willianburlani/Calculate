{
 "cells": [
  {
   "cell_type": "markdown",
   "id": "8e4f8b86",
   "metadata": {},
   "source": [
    "# Calculadora de Bhaskara com Python e NumPy\n",
    "\n",
    "Este notebook calcula as raízes de uma equação quadrática da forma:\n",
    "\n",
    "\\[\n",
    "ax^2 + bx + c = 0\n",
    "\\]\n",
    "\n",
    "usando a fórmula de Bhaskara.\n",
    "\n",
    "---\n",
    "\n",
    "## 1. Importação da Biblioteca\n",
    "\n",
    "Usamos o **NumPy** para facilitar operações matemáticas, como o cálculo da raiz quadrada:\n",
    "\n",
    "```python\n",
    "import numpy as np\n"
   ]
  },
  {
   "cell_type": "code",
   "execution_count": null,
   "id": "08568678",
   "metadata": {},
   "outputs": [],
   "source": [
    "# Importa a biblioteca NumPy\n",
    "import numpy as np"
   ]
  },
  {
   "cell_type": "markdown",
   "id": "7335cd26",
   "metadata": {},
   "source": [
    "2. Entrada de Dados\n",
    "\n",
    "O usuário fornece os valores de a, b e c:"
   ]
  },
  {
   "cell_type": "code",
   "execution_count": null,
   "id": "9ebcec57",
   "metadata": {},
   "outputs": [],
   "source": [
    "a = float(input(\"Digite o valor de a: \"))\n",
    "b = float(input(\"Digite o valor de b: \"))\n",
    "c = float(input(\"Digite o valor de c: \"))"
   ]
  },
  {
   "cell_type": "markdown",
   "id": "365cb335",
   "metadata": {},
   "source": [
    "3. Cálculo do Discriminante (Delta)\n",
    "\n",
    "O discriminante determina a natureza das raízes:\n",
    "\n",
    "Δ\n",
    "=\n",
    "𝑏\n",
    "2\n",
    "−\n",
    "4\n",
    "𝑎\n",
    "𝑐\n",
    "Δ=b\n",
    "2\n",
    "−4ac\n",
    "\n",
    "\n",
    "Se delta < 0 → não há raízes reais.\n",
    "\n",
    "Se delta = 0 → há uma raiz real.\n",
    "\n",
    "Se delta > 0 → há duas raízes reais."
   ]
  },
  {
   "cell_type": "code",
   "execution_count": null,
   "id": "dea9662e",
   "metadata": {},
   "outputs": [],
   "source": [
    "delta = np.power(b, 2) - 4*a*c\n",
    "print(f\"O valor do discriminante (delta) é: {delta}\")"
   ]
  },
  {
   "cell_type": "markdown",
   "id": "dc00b815",
   "metadata": {},
   "source": [
    "4. Cálculo das Raízes"
   ]
  },
  {
   "cell_type": "code",
   "execution_count": null,
   "id": "2d5aa901",
   "metadata": {},
   "outputs": [],
   "source": [
    "if delta < 0:\n",
    "    print(\"A equação não possui raízes reais.\")\n",
    "elif delta == 0:\n",
    "    x = -b / (2*a)\n",
    "    print(f\"A equação possui uma raiz real: x = {x}\")\n",
    "else:\n",
    "    x1 = (-b + np.sqrt(delta)) / (2*a)\n",
    "    x2 = (-b - np.sqrt(delta)) / (2*a)\n",
    "    print(f\"As raízes da equação são: x1 = {x1}, x2 = {x2}\")\n"
   ]
  },
  {
   "cell_type": "markdown",
   "id": "f8bf386d",
   "metadata": {},
   "source": [
    "5. Função Bhaskara\n",
    "\n",
    "Também podemos encapsular a lógica em uma função reutilizável:"
   ]
  },
  {
   "cell_type": "code",
   "execution_count": null,
   "id": "702004d9",
   "metadata": {},
   "outputs": [],
   "source": [
    "def bhaskara(a, b, c):\n",
    "    delta = np.power(b, 2) - 4*a*c\n",
    "    if delta < 0:\n",
    "        return \"Não possui raízes reais\"\n",
    "    elif delta == 0:\n",
    "        x = -b / (2*a)\n",
    "        return f\"Uma raiz real: {x}\"\n",
    "    else:\n",
    "        x1 = (-b + np.sqrt(delta)) / (2*a)\n",
    "        x2 = (-b - np.sqrt(delta)) / (2*a)\n",
    "        return f\"Duas raízes reais: x1 = {x1}, x2 = {x2}\"\n"
   ]
  },
  {
   "cell_type": "markdown",
   "id": "f08cda0a",
   "metadata": {},
   "source": [
    "Exemplo de uso:"
   ]
  },
  {
   "cell_type": "code",
   "execution_count": null,
   "id": "5afd1a8d",
   "metadata": {},
   "outputs": [],
   "source": [
    "print(bhaskara(1, -3, 2))"
   ]
  }
 ],
 "metadata": {
  "kernelspec": {
   "display_name": "Python 3",
   "language": "python",
   "name": "python3"
  },
  "language_info": {
   "codemirror_mode": {
    "name": "ipython",
    "version": 3
   },
   "file_extension": ".py",
   "mimetype": "text/x-python",
   "name": "python",
   "nbconvert_exporter": "python",
   "pygments_lexer": "ipython3",
   "version": "3.12.3"
  }
 },
 "nbformat": 4,
 "nbformat_minor": 5
}
